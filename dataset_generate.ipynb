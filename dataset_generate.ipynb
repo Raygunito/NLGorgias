{
 "cells": [
  {
   "cell_type": "markdown",
   "metadata": {},
   "source": [
    "# Generating random GORGIAS code\n",
    "\n",
    "The objective of this notebook is to generate an random but syntaxically correct GORGIAS code, we won't give importance to the semantics behind each code."
   ]
  },
  {
   "cell_type": "code",
   "execution_count": null,
   "metadata": {},
   "outputs": [],
   "source": [
    "import random\n",
    "\n",
    "actions = [\n",
    "    # Work-related actions\n",
    "    \"attend_meeting\", \"finish_report\", \"reply_emails\", \"give_presentation\",\n",
    "    \n",
    "    # Social & leisure activities\n",
    "    \"go_to(restaurant)\", \"go_to(cinema)\", \"go_to(park)\", \"go_to(theater)\",\n",
    "    \"visit_family\", \"attend_concert\", \"travel_abroad\", \"go_shopping\",\n",
    "\n",
    "    # Health & exercise\n",
    "    \"go_gym\", \"morning_run\", \"yoga_session\", \"visit_doctor\",\n",
    "\n",
    "    # Daily tasks\n",
    "    \"buy_groceries\", \"clean_house\", \"cook_dinner\", \"read_book\",\n",
    "\n",
    "    # Transportation\n",
    "    \"take_bus\", \"ride_bike\", \"drive_car\", \"book_flight\"\n",
    "]\n",
    "\n",
    "facts = [\n",
    "    # Work-related\n",
    "    \"urgent_deadline\", \"important_meeting\", \"boss_in_office\", \"team_project_due\",\n",
    "\n",
    "    # Personal situations\n",
    "    \"feeling_sick\", \"birthday_today\", \"wedding_anniversary\", \"friend_in_town\",\n",
    "\n",
    "    # Weather conditions\n",
    "    \"good_weather\", \"rainy_day\", \"snowstorm\", \"extreme_heat\",\n",
    "\n",
    "    # Time-based events\n",
    "    \"weekend\", \"holiday_season\", \"morning_rush\", \"night_time\",\n",
    "\n",
    "    # Social dynamics\n",
    "    \"invitation_from_friend\", \"family_gathering\", \"new_restaurant_to_try\", \"concert_nearby\",\n",
    "\n",
    "    # Financial considerations\n",
    "    \"low_budget\", \"got_bonus\", \"discount_on_flight\", \"expensive_event\"\n",
    "]\n"
   ]
  },
  {
   "cell_type": "markdown",
   "metadata": {},
   "source": [
    "We will classify any GORGIAS as beginner level as the following : \n",
    "- simple arguments with clear rules and priorities\n",
    "- no recursion with minimal dependencies\n",
    "- a maximum of 1 or 2 layers of preferences\n",
    "- no `complement()/2`, abducible or defeasible components"
   ]
  },
  {
   "cell_type": "code",
   "execution_count": null,
   "metadata": {},
   "outputs": [],
   "source": [
    "def generate_beginner_gorgias():\n",
    "    action1, action2 = random.sample(actions, 2)\n",
    "    shared_condition = random.choice(facts)\n",
    "    \n",
    "    remaining_facts = [fact for fact in facts if fact != shared_condition]\n",
    "    p2_condition = random.choice(remaining_facts)\n",
    "\n",
    "    remaining_facts = [fact for fact in remaining_facts if fact != p2_condition]\n",
    "    c2_condition = random.choice(remaining_facts)\n",
    "\n",
    "    rule1 = f\"rule(r1, {action1}, []) :- {shared_condition}.\"\n",
    "    rule2 = f\"rule(r2, {action2}, []) :- {shared_condition}.\"\n",
    "\n",
    "    pref1 = f\"rule(p1, prefer(r1, r2), []).\"\n",
    "\n",
    "    depth = random.choice([1, 2, 3])  # 1 = just p1, 2 = add p2 & c1, 3 = full depth\n",
    "\n",
    "    rules = [rule1, rule2, pref1]\n",
    "\n",
    "    if depth >= 2:\n",
    "        pref2 = f\"rule(p2, prefer(r2, r1), []) :- {p2_condition}.\"\n",
    "        conflict1 = \"rule(c1, prefer(p2, p1), []).\"\n",
    "        rules.extend([pref2, conflict1])\n",
    "\n",
    "    if depth == 3:\n",
    "        conflict2 = f\"rule(c2, prefer(p1, p2), []) :- {c2_condition}.\"\n",
    "        conflict3 = \"rule(c3, prefer(c2, c1), []).\"\n",
    "        rules.extend([conflict2, conflict3])\n",
    "\n",
    "    return \"\\n\".join(rules)"
   ]
  },
  {
   "cell_type": "markdown",
   "metadata": {},
   "source": [
    "For the intermediate level we will add the `complement()/2` having multi-level "
   ]
  },
  {
   "cell_type": "code",
   "execution_count": null,
   "metadata": {},
   "outputs": [],
   "source": [
    "num_examples = 3\n",
    "gorgias_examples = [generate_beginner_gorgias() for _ in range(num_examples)]\n",
    "\n",
    "for i, example in enumerate(gorgias_examples, 1):\n",
    "    print(f\"### Example {i} ###\\n{example}\\n\")"
   ]
  }
 ],
 "metadata": {
  "kernelspec": {
   "display_name": "Python 3",
   "language": "python",
   "name": "python3"
  },
  "language_info": {
   "codemirror_mode": {
    "name": "ipython",
    "version": 3
   },
   "file_extension": ".py",
   "mimetype": "text/x-python",
   "name": "python",
   "nbconvert_exporter": "python",
   "pygments_lexer": "ipython3",
   "version": "3.10.6"
  }
 },
 "nbformat": 4,
 "nbformat_minor": 2
}
